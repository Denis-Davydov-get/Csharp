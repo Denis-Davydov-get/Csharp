{
  "nbformat": 4,
  "nbformat_minor": 0,
  "metadata": {
    "colab": {
      "provenance": [],
      "authorship_tag": "ABX9TyOp+1E83NlpEGRJohyZ/rWF",
      "include_colab_link": true
    },
    "kernelspec": {
      "name": "python3",
      "display_name": "Python 3"
    },
    "language_info": {
      "name": "python"
    }
  },
  "cells": [
    {
      "cell_type": "markdown",
      "metadata": {
        "id": "view-in-github",
        "colab_type": "text"
      },
      "source": [
        "<a href=\"https://colab.research.google.com/github/Denis-Davydov-get/Csharp/blob/main/seninar_10_task_43.ipynb\" target=\"_parent\"><img src=\"https://colab.research.google.com/assets/colab-badge.svg\" alt=\"Open In Colab\"/></a>"
      ]
    },
    {
      "cell_type": "markdown",
      "source": [
        "# Задание 44 \n",
        "\n",
        "В ячейке ниже представлен код генерирующий DataFrame, \n",
        "которая состоит всего из 1 столбца. Ваша задача перевести его в one hot вид. Сможете ли вы это сделать без get_dummies? \n"
      ],
      "metadata": {
        "id": "U7PNtKpD1MFK"
      }
    },
    {
      "cell_type": "code",
      "execution_count": null,
      "metadata": {
        "id": "5xhA0_OvVzWA"
      },
      "outputs": [],
      "source": [
        "import pandas as pd\n",
        "import random\n",
        "lst = ['robot'] * 10\n",
        "lst += ['human'] * 10\n",
        "random.shuffle(lst)\n",
        "data = pd.DataFrame({'whoAmI':lst})\n",
        "# pd.get_dummies(data)\n",
        "data.loc[data['whoAmI'] == 'human', 'whoAmI_human'] = '1'\n",
        "data.loc[data['whoAmI'] == 'robot', 'whoAmI_robot'] = '1'\n",
        "data = data.fillna(0)\n",
        "data\n"
      ]
    },
    {
      "cell_type": "code",
      "source": [
        "pd.get_dummies(data)\n"
      ],
      "metadata": {
        "id": "fnFU8Pvt3gzy"
      },
      "execution_count": null,
      "outputs": []
    },
    {
      "cell_type": "code",
      "source": [],
      "metadata": {
        "id": "rgnPpuYtu_xc"
      },
      "execution_count": null,
      "outputs": []
    }
  ]
}